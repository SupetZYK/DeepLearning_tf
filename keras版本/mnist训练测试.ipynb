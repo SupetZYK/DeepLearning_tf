{
 "cells": [
  {
   "cell_type": "code",
   "execution_count": 1,
   "metadata": {},
   "outputs": [
    {
     "name": "stderr",
     "output_type": "stream",
     "text": [
      "Using TensorFlow backend.\n"
     ]
    }
   ],
   "source": [
    "from Lenet5 import *\n",
    "import numpy as np\n",
    "from keras.datasets import mnist\n",
    "\n",
    "base_path=\"/home/zyk/data/MNIST\""
   ]
  },
  {
   "cell_type": "code",
   "execution_count": 2,
   "metadata": {},
   "outputs": [],
   "source": [
    "#参数\n",
    "BATCH_SIZE = 128\n",
    "LR=0.001\n",
    "DROPOUT=0.5\n",
    "REGULARIZATION_RATE=0.0001\n",
    "VERBOSE = 1"
   ]
  },
  {
   "cell_type": "code",
   "execution_count": 3,
   "metadata": {},
   "outputs": [],
   "source": [
    "lenet=Lenet5()"
   ]
  },
  {
   "cell_type": "code",
   "execution_count": 4,
   "metadata": {},
   "outputs": [
    {
     "name": "stdout",
     "output_type": "stream",
     "text": [
      "Extracting /home/zyk/data/MNIST/train-images-idx3-ubyte.gz\n",
      "Extracting /home/zyk/data/MNIST/train-labels-idx1-ubyte.gz\n",
      "Extracting /home/zyk/data/MNIST/t10k-images-idx3-ubyte.gz\n",
      "Extracting /home/zyk/data/MNIST/t10k-labels-idx1-ubyte.gz\n",
      "(55000, 784)\n",
      "(55000, 10)\n",
      "[ 0.  0.  0.  0.  0.  0.  0.  1.  0.  0.]\n"
     ]
    }
   ],
   "source": [
    "# 准备数据\n",
    "# help(mnist)\n",
    "## 使用keras自带的mnist格式，x是6000x28x28，0~255， y是0~9（注意和tf的不一样\n",
    "#(X_train,Y_train),(X_test,Y_test) = mnist.load_data('D:\\Documents\\Projects\\DeepLearning_tf-master\\keras版本\\mnist.npz')\n",
    "# print(X_train.shape)\n",
    "# print(Y_train.shape)\n",
    "# print(X_train)\n",
    "# print(Y_train)\n",
    "# print(X_train[0])\n",
    "from tensorflow.examples.tutorials.mnist import input_data\n",
    "mnist=input_data.read_data_sets(base_path,one_hot=True)\n",
    "print(mnist.train.images.shape)\n",
    "print(mnist.train.labels.shape)\n",
    "# print(mnist.train.images[0])\n",
    "print(mnist.train.labels[0])\n",
    "x_train=np.reshape(mnist.train.images, [-1, 28,28,1])\n",
    "y_train=mnist.train.labels\n",
    "x_val=np.reshape(mnist.validation.images,[-1,28,28,1])\n",
    "y_val=mnist.validation.labels\n",
    "x_test=np.reshape(mnist.test.images,[-1,28,28,1])\n",
    "y_test=mnist.test.labels"
   ]
  },
  {
   "cell_type": "code",
   "execution_count": 6,
   "metadata": {},
   "outputs": [],
   "source": [
    "from keras.callbacks import TensorBoard\n",
    "tb=TensorBoard(log_dir=base_path+\"/keras_logs\",histogram_freq=1,write_graph=True)"
   ]
  },
  {
   "cell_type": "code",
   "execution_count": 7,
   "metadata": {},
   "outputs": [
    {
     "name": "stdout",
     "output_type": "stream",
     "text": [
      "Train on 55000 samples, validate on 5000 samples\n",
      "Epoch 1/1\n",
      "55000/55000 [==============================] - 3s 55us/step - loss: 2.1679 - acc: 0.3858 - val_loss: 2.0036 - val_acc: 0.6016\n"
     ]
    }
   ],
   "source": [
    "from keras.callbacks import TensorBoard\n",
    "history = lenet.fit(x_train,y_train,\n",
    "         batch_size=BATCH_SIZE,\n",
    "          epochs=1,\n",
    "          verbose=VERBOSE,\n",
    "         validation_data=(x_val, y_val),\n",
    "         shuffle=True,\n",
    "         callbacks=[tb]\n",
    "                   )\n"
   ]
  },
  {
   "cell_type": "code",
   "execution_count": 10,
   "metadata": {},
   "outputs": [],
   "source": [
    "lenet.save(base_path+\"/kerasmodel/abc.h5\")"
   ]
  },
  {
   "cell_type": "code",
   "execution_count": 11,
   "metadata": {},
   "outputs": [],
   "source": [
    "lenet.load_weights(base_path+\"/kerasmodel/abc.h5\")"
   ]
  },
  {
   "cell_type": "code",
   "execution_count": 12,
   "metadata": {},
   "outputs": [
    {
     "name": "stdout",
     "output_type": "stream",
     "text": [
      "10000/10000 [==============================] - 0s 35us/step\n"
     ]
    },
    {
     "data": {
      "text/plain": [
       "[2.0016399181365965, 0.61250000000000004]"
      ]
     },
     "execution_count": 12,
     "metadata": {},
     "output_type": "execute_result"
    }
   ],
   "source": [
    "lenet.evaluate(x_test,y_test)"
   ]
  },
  {
   "cell_type": "code",
   "execution_count": null,
   "metadata": {},
   "outputs": [],
   "source": []
  }
 ],
 "metadata": {
  "kernelspec": {
   "display_name": "Python 3",
   "language": "python",
   "name": "python3"
  },
  "language_info": {
   "codemirror_mode": {
    "name": "ipython",
    "version": 3
   },
   "file_extension": ".py",
   "mimetype": "text/x-python",
   "name": "python",
   "nbconvert_exporter": "python",
   "pygments_lexer": "ipython3",
   "version": "3.5.2"
  }
 },
 "nbformat": 4,
 "nbformat_minor": 2
}
